{
  "nbformat": 4,
  "nbformat_minor": 0,
  "metadata": {
    "colab": {
      "provenance": [],
      "authorship_tag": "ABX9TyNpLsbAhxf1LmrMbjwDr0n6",
      "include_colab_link": true
    },
    "kernelspec": {
      "name": "python3",
      "display_name": "Python 3"
    },
    "language_info": {
      "name": "python"
    }
  },
  "cells": [
    {
      "cell_type": "markdown",
      "metadata": {
        "id": "view-in-github",
        "colab_type": "text"
      },
      "source": [
        "<a href=\"https://colab.research.google.com/github/nitinfaye/Neural-Netowrk-/blob/main/Neural_network.ipynb\" target=\"_parent\"><img src=\"https://colab.research.google.com/assets/colab-badge.svg\" alt=\"Open In Colab\"/></a>"
      ]
    },
    {
      "cell_type": "code",
      "source": [
        "!pip install tflearn"
      ],
      "metadata": {
        "colab": {
          "base_uri": "https://localhost:8080/"
        },
        "id": "7tLlC3zsdoI2",
        "outputId": "2e1a4cb1-02e0-4f18-e5ed-77f9c37fd218"
      },
      "execution_count": null,
      "outputs": [
        {
          "output_type": "stream",
          "name": "stdout",
          "text": [
            "Looking in indexes: https://pypi.org/simple, https://us-python.pkg.dev/colab-wheels/public/simple/\n",
            "Requirement already satisfied: tflearn in /usr/local/lib/python3.9/dist-packages (0.5.0)\n",
            "Requirement already satisfied: Pillow in /usr/local/lib/python3.9/dist-packages (from tflearn) (8.4.0)\n",
            "Requirement already satisfied: numpy in /usr/local/lib/python3.9/dist-packages (from tflearn) (1.22.4)\n",
            "Requirement already satisfied: six in /usr/local/lib/python3.9/dist-packages (from tflearn) (1.15.0)\n"
          ]
        }
      ]
    },
    {
      "cell_type": "markdown",
      "source": [
        "#Required Library"
      ],
      "metadata": {
        "id": "DcFG7ODFt0ZH"
      }
    },
    {
      "cell_type": "code",
      "execution_count": null,
      "metadata": {
        "colab": {
          "base_uri": "https://localhost:8080/"
        },
        "id": "vkrmzQrAc1xG",
        "outputId": "d22514c9-6d7b-4fbb-b789-de99bcd526ef"
      },
      "outputs": [
        {
          "output_type": "stream",
          "name": "stderr",
          "text": [
            "WARNING:tensorflow:From /usr/local/lib/python3.9/dist-packages/tensorflow/python/compat/v2_compat.py:107: disable_resource_variables (from tensorflow.python.ops.variable_scope) is deprecated and will be removed in a future version.\n",
            "Instructions for updating:\n",
            "non-resource variables are not supported in the long term\n"
          ]
        }
      ],
      "source": [
        "import numpy as np\n",
        "import tflearn\n",
        "from tflearn.datasets import mnist"
      ]
    },
    {
      "cell_type": "markdown",
      "source": [
        "#Load data"
      ],
      "metadata": {
        "id": "QEjPlWjatt6_"
      }
    },
    {
      "cell_type": "code",
      "source": [
        "MNIST_data = mnist.read_data_sets(one_hot=True)"
      ],
      "metadata": {
        "colab": {
          "base_uri": "https://localhost:8080/"
        },
        "id": "POKzkkFsdzNQ",
        "outputId": "444e045a-e864-44d6-964b-2bbd4004dcae"
      },
      "execution_count": null,
      "outputs": [
        {
          "output_type": "stream",
          "name": "stdout",
          "text": [
            "Extracting mnist/train-images-idx3-ubyte.gz\n",
            "Extracting mnist/train-labels-idx1-ubyte.gz\n",
            "Extracting mnist/t10k-images-idx3-ubyte.gz\n",
            "Extracting mnist/t10k-labels-idx1-ubyte.gz\n"
          ]
        }
      ]
    },
    {
      "cell_type": "code",
      "source": [
        "mnist_train = MNIST_data.train\n",
        "mnist_validation= MNIST_data.validation\n",
        "mnist_test = MNIST_data.test"
      ],
      "metadata": {
        "id": "ajlaYD-9f59g"
      },
      "execution_count": null,
      "outputs": []
    },
    {
      "cell_type": "code",
      "source": [
        "X , y = mnist_train._images ,mnist_train._labels"
      ],
      "metadata": {
        "id": "phJAwIDLgeEq"
      },
      "execution_count": null,
      "outputs": []
    },
    {
      "cell_type": "code",
      "source": [
        "X.shape"
      ],
      "metadata": {
        "colab": {
          "base_uri": "https://localhost:8080/"
        },
        "id": "G-ZntzSvg2_E",
        "outputId": "027a7b45-35e5-421d-a102-b3a8ba2890de"
      },
      "execution_count": null,
      "outputs": [
        {
          "output_type": "execute_result",
          "data": {
            "text/plain": [
              "(55000, 784)"
            ]
          },
          "metadata": {},
          "execution_count": 6
        }
      ]
    },
    {
      "cell_type": "code",
      "source": [
        "y.shape"
      ],
      "metadata": {
        "colab": {
          "base_uri": "https://localhost:8080/"
        },
        "id": "tVDxaWJFg6R5",
        "outputId": "539d5b89-4278-420b-a8ad-f7ee673ae3f4"
      },
      "execution_count": null,
      "outputs": [
        {
          "output_type": "execute_result",
          "data": {
            "text/plain": [
              "(55000, 10)"
            ]
          },
          "metadata": {},
          "execution_count": 7
        }
      ]
    },
    {
      "cell_type": "markdown",
      "source": [
        "#make model "
      ],
      "metadata": {
        "id": "h2jKms2YhHcp"
      }
    },
    {
      "cell_type": "code",
      "source": [
        "from tflearn.layers.estimator import optimizers\n",
        "tflearn.init_graph(num_cores = 4)\n",
        "net = tflearn.input_data(shape=[None,784])\n",
        "net = tflearn.fully_connected(net,100,activation = 'relu')\n",
        "net = tflearn.fully_connected(net,100,activation = 'relu')\n",
        "net = tflearn.fully_connected(net,10,activation = 'softmax')\n",
        "\n",
        "#net = tflearn.regression(net,loss = 'categorical_crossentropy', optimizer= 'sgd')\n",
        "net = tflearn.regression(net,loss = 'categorical_crossentropy', optimizer= 'adam')\n",
        "\n",
        "model = tflearn.DNN(net)\n"
      ],
      "metadata": {
        "colab": {
          "base_uri": "https://localhost:8080/"
        },
        "id": "-qVANlL8hKtz",
        "outputId": "bfa230cb-06fe-47a8-d823-c2263806cd01"
      },
      "execution_count": null,
      "outputs": [
        {
          "output_type": "stream",
          "name": "stderr",
          "text": [
            "WARNING:tensorflow:From /usr/local/lib/python3.9/dist-packages/tflearn/initializations.py:164: calling TruncatedNormal.__init__ (from tensorflow.python.ops.init_ops) with dtype is deprecated and will be removed in a future version.\n",
            "Instructions for updating:\n",
            "Call initializer instance with the dtype argument instead of passing it to the constructor\n"
          ]
        }
      ]
    },
    {
      "cell_type": "markdown",
      "source": [
        "#Train Model"
      ],
      "metadata": {
        "id": "tJEe4c_elN5v"
      }
    },
    {
      "cell_type": "code",
      "source": [
        "model.fit(X , y , n_epoch = 1 , batch_size = 10, show_metric=True)"
      ],
      "metadata": {
        "colab": {
          "base_uri": "https://localhost:8080/"
        },
        "id": "dq3MDrB4lRO9",
        "outputId": "041105b8-240c-4423-e599-72910ab28b4a"
      },
      "execution_count": null,
      "outputs": [
        {
          "output_type": "stream",
          "name": "stdout",
          "text": [
            "Training Step: 5221  | total loss: \u001b[1m\u001b[32m0.06935\u001b[0m\u001b[0m | time: 40.836s\n",
            "\u001b[2K\r| Adam | epoch: 001 | loss: 0.06935 - acc: 0.9753 -- iter: 52210/55000\n"
          ]
        }
      ]
    },
    {
      "cell_type": "code",
      "source": [],
      "metadata": {
        "id": "hFskT-KolM92"
      },
      "execution_count": null,
      "outputs": []
    }
  ]
}